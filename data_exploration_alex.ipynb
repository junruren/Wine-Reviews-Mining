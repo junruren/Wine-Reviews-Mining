{
 "cells": [
  {
   "cell_type": "code",
   "execution_count": 2,
   "metadata": {},
   "outputs": [],
   "source": [
    "import matplotlib.pyplot as plt\n",
    "import numpy as np\n",
    "import random\n",
    "from functools import reduce\n",
    "from tqdm import tqdm"
   ]
  },
  {
   "cell_type": "code",
   "execution_count": 2,
   "metadata": {},
   "outputs": [],
   "source": [
    "null = None\n",
    "data = [eval(l) for l in open('datasets/130k_wine_data.json')][0]"
   ]
  },
  {
   "cell_type": "code",
   "execution_count": 3,
   "metadata": {
    "collapsed": true
   },
   "outputs": [],
   "source": [
    "data_w_price = [d for d in data if d['price']]"
   ]
  },
  {
   "cell_type": "code",
   "execution_count": 4,
   "metadata": {
    "collapsed": true
   },
   "outputs": [],
   "source": [
    "random.shuffle(data_w_price)"
   ]
  },
  {
   "cell_type": "code",
   "execution_count": 5,
   "metadata": {
    "collapsed": true
   },
   "outputs": [],
   "source": [
    "train = data_w_price[:80000]\n",
    "valid = data_w_price[80000:100000]\n",
    "test  = data_w_price[100000:]"
   ]
  },
  {
   "cell_type": "markdown",
   "metadata": {},
   "source": [
    " Data Exploration\n",
    " ==="
   ]
  },
  {
   "cell_type": "markdown",
   "metadata": {},
   "source": [
    "Data Fields:\n",
    "---\n",
    "1. `Points`: the number of points WineEnthusiast rated the wine on a scale of 1-100 (though they say they only post reviews for wines that score >=80)\n",
    "2. `Title`: the title of the wine review, which often contains the vintage if you're interested in extracting that feature\n",
    "3. `Variety`: the type of grapes used to make the wine (ie Pinot Noir)\n",
    "4. `Description`: a few sentences from a sommelier describing the wine's taste, smell, look, feel, etc.\n",
    "5. `Country`: the country that the wine is from\n",
    "6. `Province`: the province or state that the wine is from\n",
    "7. `Region 1`: the wine growing area in a province or state (ie Napa)\n",
    "8. `Region 2`: sometimes there are more specific regions specified within a wine growing area (ie Rutherford inside the Napa Valley), but this value can sometimes be blank\n",
    "9. `Winery`: the winery that made the wine\n",
    "10. `Designation`: the vineyard within the winery where the grapes that made the wine are from\n",
    "11. `Price`: the cost for a bottle of the wine\n",
    "12. `Taster Name`: name of the person who tasted and reviewed the wine\n",
    "13. `Taster Twitter Handle`: Twitter handle for the person who tasted and reviewed the wine"
   ]
  },
  {
   "cell_type": "code",
   "execution_count": 21,
   "metadata": {},
   "outputs": [],
   "source": [
    "one_hot_features = ['country', 'designation', 'province', 'region_1', 'region_2', 'variety', 'winery']\n",
    "one_hot_bins = {k: set([d[k] for d in data]) for k in one_hot_features}\n",
    "\n",
    "def featurize(data, keys):\n",
    "    def feat(datum, keys):\n",
    "        feature_vector = [[int(datum[k] == b) for b in one_hot_bins[k]] for k in keys if k in one_hot_features]\n",
    "        return reduce(lambda a, b: a + b, feature_vector)\n",
    "    return list(map(lambda x: feat(x, keys), tqdm(data)))"
   ]
  },
  {
   "cell_type": "code",
   "execution_count": 31,
   "metadata": {},
   "outputs": [
    {
     "name": "stderr",
     "output_type": "stream",
     "text": [
      "100%|██████████| 80000/80000 [00:10<00:00, 7591.01it/s]\n"
     ]
    }
   ],
   "source": [
    "x = featurize(train, ['country', 'province'])\n",
    "y = [d['price'] for d in train]"
   ]
  },
  {
   "cell_type": "code",
   "execution_count": 28,
   "metadata": {},
   "outputs": [
    {
     "data": {
      "text/plain": [
       "{'country': 'Italy',\n",
       " 'description': \"Aromas of woodshop, spearmint, baking spice, pressed flower and a whiff of bacon lead the nose on this dense wine. The palate delivers oak, blueberry extract, vanilla, coffee and a confectionary note, but there's not enough fruit richness to stand up to the oak spices.\",\n",
       " 'designation': 'Monte dei Cocci',\n",
       " 'points': '86',\n",
       " 'price': 10,\n",
       " 'province': 'Southern Italy',\n",
       " 'region_1': 'Puglia',\n",
       " 'region_2': None,\n",
       " 'taster_name': 'Kerin O’Keefe',\n",
       " 'taster_twitter_handle': '@kerinokeefe',\n",
       " 'title': 'Tenute Girolamo 2012 Monte dei Cocci Negroamaro (Puglia)',\n",
       " 'variety': 'Negroamaro',\n",
       " 'winery': 'Tenute Girolamo'}"
      ]
     },
     "execution_count": 28,
     "metadata": {},
     "output_type": "execute_result"
    }
   ],
   "source": [
    "train[3]"
   ]
  },
  {
   "cell_type": "code",
   "execution_count": null,
   "metadata": {
    "collapsed": true
   },
   "outputs": [],
   "source": []
  }
 ],
 "metadata": {
  "kernelspec": {
   "display_name": "Python 3",
   "language": "python",
   "name": "python3"
  },
  "language_info": {
   "codemirror_mode": {
    "name": "ipython",
    "version": 3
   },
   "file_extension": ".py",
   "mimetype": "text/x-python",
   "name": "python",
   "nbconvert_exporter": "python",
   "pygments_lexer": "ipython3",
   "version": "3.6.1"
  }
 },
 "nbformat": 4,
 "nbformat_minor": 2
}
