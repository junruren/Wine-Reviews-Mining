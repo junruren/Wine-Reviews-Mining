{
 "cells": [
  {
   "cell_type": "code",
   "execution_count": 2,
   "metadata": {
    "collapsed": false
   },
   "outputs": [],
   "source": [
    "import tensorflow\n",
    "import matplotlib.pyplot as plt\n",
    "import numpy as np\n",
    "import random\n",
    "from sklearn.linear_model import * \n",
    "from functools import reduce\n",
    "from tqdm import tqdm"
   ]
  },
  {
   "cell_type": "code",
   "execution_count": 8,
   "metadata": {
    "collapsed": false
   },
   "outputs": [],
   "source": [
    "null = None\n",
    "data = [eval(l) for l in open('datasets/130k_wine_data.json')][0]"
   ]
  },
  {
   "cell_type": "code",
   "execution_count": 9,
   "metadata": {
    "collapsed": true
   },
   "outputs": [],
   "source": [
    "data_w_price = [d for d in data if d['price']]"
   ]
  },
  {
   "cell_type": "code",
   "execution_count": 10,
   "metadata": {
    "collapsed": true
   },
   "outputs": [],
   "source": [
    "random.shuffle(data_w_price)"
   ]
  },
  {
   "cell_type": "code",
   "execution_count": 11,
   "metadata": {
    "collapsed": true
   },
   "outputs": [],
   "source": [
    "train = data_w_price[:80000]\n",
    "valid = data_w_price[80000:100000]\n",
    "test  = data_w_price[100000:]"
   ]
  },
  {
   "cell_type": "markdown",
   "metadata": {},
   "source": [
    " Data Exploration\n",
    " ==="
   ]
  },
  {
   "cell_type": "markdown",
   "metadata": {},
   "source": [
    "Data Fields:\n",
    "---\n",
    "1. `Points`: the number of points WineEnthusiast rated the wine on a scale of 1-100 (though they say they only post reviews for wines that score >=80)\n",
    "2. `Title`: the title of the wine review, which often contains the vintage if you're interested in extracting that feature\n",
    "3. `Variety`: the type of grapes used to make the wine (ie Pinot Noir)\n",
    "4. `Description`: a few sentences from a sommelier describing the wine's taste, smell, look, feel, etc.\n",
    "5. `Country`: the country that the wine is from\n",
    "6. `Province`: the province or state that the wine is from\n",
    "7. `Region 1`: the wine growing area in a province or state (ie Napa)\n",
    "8. `Region 2`: sometimes there are more specific regions specified within a wine growing area (ie Rutherford inside the Napa Valley), but this value can sometimes be blank\n",
    "9. `Winery`: the winery that made the wine\n",
    "10. `Designation`: the vineyard within the winery where the grapes that made the wine are from\n",
    "11. `Price`: the cost for a bottle of the wine\n",
    "12. `Taster Name`: name of the person who tasted and reviewed the wine\n",
    "13. `Taster Twitter Handle`: Twitter handle for the person who tasted and reviewed the wine"
   ]
  },
  {
   "cell_type": "code",
   "execution_count": 12,
   "metadata": {
    "collapsed": false
   },
   "outputs": [
    {
     "name": "stdout",
     "output_type": "stream",
     "text": [
      "points: 21\n",
      "province: 426\n",
      "variety: 708\n",
      "description: 119955\n",
      "region_2: 18\n",
      "taster_name: 20\n",
      "country: 44\n",
      "title: 118840\n",
      "taster_twitter_handle: 16\n",
      "region_1: 1230\n",
      "designation: 37980\n",
      "winery: 16757\n",
      "price: 391\n"
     ]
    }
   ],
   "source": [
    "for k in data[0]:\n",
    "    print(k + ': ' + str(len(list(set([d[k] for d in data])))))"
   ]
  },
  {
   "cell_type": "code",
   "execution_count": 13,
   "metadata": {
    "collapsed": false
   },
   "outputs": [],
   "source": [
    "one_hot_features = ['country', 'designation', 'province', 'region_1', 'region_2', 'variety', 'winery']\n",
    "one_hot_bins = {k: set([d[k] for d in data]) for k in one_hot_features}\n",
    "\n",
    "def featurize(data, keys):\n",
    "    def feat(datum, keys):\n",
    "        feature_vector = [[int(datum[k] == b) for b in one_hot_bins[k]] for k in keys if k in one_hot_features]\n",
    "        return reduce(lambda a, b: a + b, feature_vector)\n",
    "    return list(map(lambda x: feat(x, keys), tqdm(data)))"
   ]
  },
  {
   "cell_type": "code",
   "execution_count": 14,
   "metadata": {
    "collapsed": false
   },
   "outputs": [
    {
     "name": "stderr",
     "output_type": "stream",
     "text": [
      "100%|██████████| 80000/80000 [08:20<00:00, 159.71it/s]\n"
     ]
    }
   ],
   "source": [
    "x = featurize(train, ['variety', 'winery'])\n",
    "y = [d['price'] for d in train]"
   ]
  },
  {
   "cell_type": "code",
   "execution_count": 15,
   "metadata": {
    "collapsed": false
   },
   "outputs": [],
   "source": [
    "reg = LinearRegression()"
   ]
  },
  {
   "cell_type": "code",
   "execution_count": null,
   "metadata": {
    "collapsed": false
   },
   "outputs": [],
   "source": [
    "reg.fit(x, y)"
   ]
  },
  {
   "cell_type": "code",
   "execution_count": null,
   "metadata": {
    "collapsed": false
   },
   "outputs": [],
   "source": [
    "test_x = featurize(test, [variety', 'winery'])"
   ]
  },
  {
   "cell_type": "code",
   "execution_count": null,
   "metadata": {
    "collapsed": false
   },
   "outputs": [],
   "source": [
    "reg.predict(test_x[0])"
   ]
  },
  {
   "cell_type": "code",
   "execution_count": null,
   "metadata": {
    "collapsed": true
   },
   "outputs": [],
   "source": [
    "test_y = [d['price'] for d in test]"
   ]
  },
  {
   "cell_type": "code",
   "execution_count": null,
   "metadata": {
    "collapsed": false
   },
   "outputs": [],
   "source": [
    "print(reg.predict(test_x[4]))\n",
    "print(test_y[4])"
   ]
  },
  {
   "cell_type": "code",
   "execution_count": null,
   "metadata": {
    "collapsed": false
   },
   "outputs": [],
   "source": [
    "test[3]"
   ]
  },
  {
   "cell_type": "code",
   "execution_count": 19,
   "metadata": {
    "collapsed": false
   },
   "outputs": [
    {
     "name": "stderr",
     "output_type": "stream",
     "text": [
      "100%|██████████| 80000/80000 [02:12<00:00, 604.64it/s]\n"
     ]
    }
   ],
   "source": [
    "X = np.array([np.array(i) for i in tqdm(x)])"
   ]
  },
  {
   "cell_type": "code",
   "execution_count": 20,
   "metadata": {
    "collapsed": false
   },
   "outputs": [
    {
     "data": {
      "text/plain": [
       "(80000, 17465)"
      ]
     },
     "execution_count": 20,
     "metadata": {},
     "output_type": "execute_result"
    }
   ],
   "source": [
    "X.shape"
   ]
  },
  {
   "cell_type": "code",
   "execution_count": 21,
   "metadata": {
    "collapsed": true
   },
   "outputs": [],
   "source": [
    "y = np.array(y)"
   ]
  },
  {
   "cell_type": "code",
   "execution_count": 22,
   "metadata": {
    "collapsed": false
   },
   "outputs": [
    {
     "data": {
      "text/plain": [
       "LinearRegression(copy_X=True, fit_intercept=True, n_jobs=1, normalize=False)"
      ]
     },
     "execution_count": 22,
     "metadata": {},
     "output_type": "execute_result"
    }
   ],
   "source": [
    "reg.fit(X, y)"
   ]
  },
  {
   "cell_type": "code",
   "execution_count": 1,
   "metadata": {
    "collapsed": false
   },
   "outputs": [],
   "source": []
  },
  {
   "cell_type": "code",
   "execution_count": null,
   "metadata": {
    "collapsed": true
   },
   "outputs": [],
   "source": []
  }
 ],
 "metadata": {
  "kernelspec": {
   "display_name": "Python [Root]",
   "language": "python",
   "name": "Python [Root]"
  },
  "language_info": {
   "codemirror_mode": {
    "name": "ipython",
    "version": 3
   },
   "file_extension": ".py",
   "mimetype": "text/x-python",
   "name": "python",
   "nbconvert_exporter": "python",
   "pygments_lexer": "ipython3",
   "version": "3.5.2"
  }
 },
 "nbformat": 4,
 "nbformat_minor": 2
}
