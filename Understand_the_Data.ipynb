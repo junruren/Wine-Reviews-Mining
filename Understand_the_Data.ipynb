{
 "cells": [
  {
   "cell_type": "code",
   "execution_count": 3,
   "metadata": {},
   "outputs": [
    {
     "name": "stdout",
     "output_type": "stream",
     "text": [
      "Reading datasets/130k_wine_data.json...\n",
      "Done\n"
     ]
    }
   ],
   "source": [
    "import json\n",
    "\n",
    "JSON_FILE = 'datasets/130k_wine_data.json'\n",
    "\n",
    "print('Reading ' + JSON_FILE + \"...\")\n",
    "with open(JSON_FILE, 'r') as wine_reviews_file:\n",
    "    data = json.loads(wine_reviews_file.read())\n",
    "print(\"Done\")"
   ]
  },
  {
   "cell_type": "code",
   "execution_count": 10,
   "metadata": {},
   "outputs": [
    {
     "name": "stdout",
     "output_type": "stream",
     "text": [
      "Total number of reviews: 129971\n",
      "Number of reviews with price: 120975\n"
     ]
    }
   ],
   "source": [
    "print('Total number of reviews: ' + str(len(data)))\n",
    "data_with_price = [d for d in data if d['price'] is not None]\n",
    "print('Number of reviews with price: ' + str(len(data_with_price)))"
   ]
  },
  {
   "cell_type": "code",
   "execution_count": null,
   "metadata": {},
   "outputs": [],
   "source": []
  }
 ],
 "metadata": {
  "kernelspec": {
   "display_name": "Python 3",
   "language": "python",
   "name": "python3"
  },
  "language_info": {
   "codemirror_mode": {
    "name": "ipython",
    "version": 3
   },
   "file_extension": ".py",
   "mimetype": "text/x-python",
   "name": "python",
   "nbconvert_exporter": "python",
   "pygments_lexer": "ipython3",
   "version": "3.6.2"
  }
 },
 "nbformat": 4,
 "nbformat_minor": 2
}
