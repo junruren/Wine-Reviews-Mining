{
 "cells": [
  {
   "cell_type": "code",
   "execution_count": 14,
   "metadata": {},
   "outputs": [
    {
     "name": "stdout",
     "output_type": "stream",
     "text": [
      "Reading datasets/130k_wine_data.json...\n",
      "Done\n"
     ]
    }
   ],
   "source": [
    "\"\"\"\n",
    "Reading the file\n",
    "\"\"\"\n",
    "import json\n",
    "from collections import defaultdict\n",
    "\n",
    "JSON_FILE = 'datasets/130k_wine_data.json'\n",
    "\n",
    "print('Reading ' + JSON_FILE + \"...\")\n",
    "with open(JSON_FILE, 'r') as wine_reviews_file:\n",
    "    data = json.loads(wine_reviews_file.read())\n",
    "print(\"Done\")"
   ]
  },
  {
   "cell_type": "code",
   "execution_count": 18,
   "metadata": {},
   "outputs": [
    {
     "name": "stdout",
     "output_type": "stream",
     "text": [
      "Total number of reviews: 129971\n",
      "Number of reviews with price: 120975\n",
      "Wines from 44 countires\n",
      "They are:\n",
      "['Italy', 'Portugal', 'US', 'Spain', 'France', 'Germany', 'Argentina', 'Chile', 'Australia', 'Austria', 'South Africa', 'New Zealand', 'Israel', 'Hungary', 'Greece', 'Romania', 'Mexico', 'Canada', None, 'Turkey', 'Czech Republic', 'Slovenia', 'Luxembourg', 'Croatia', 'Georgia', 'Uruguay', 'England', 'Lebanon', 'Serbia', 'Brazil', 'Moldova', 'Morocco', 'Peru', 'India', 'Bulgaria', 'Cyprus', 'Armenia', 'Switzerland', 'Bosnia and Herzegovina', 'Ukraine', 'Slovakia', 'Macedonia', 'China', 'Egypt']\n"
     ]
    }
   ],
   "source": [
    "\"\"\"\n",
    "Check for some useful stats\n",
    "\"\"\"\n",
    "print('Total number of reviews: ' + str(len(data)))\n",
    "data_with_price = [d for d in data if d['price'] is not None]\n",
    "print('Number of reviews with price: ' + str(len(data_with_price)))\n",
    "by_country = defaultdict(list)\n",
    "for d in data:\n",
    "    country = d['country']\n",
    "    by_country[country].append(d)\n",
    "print('Wines from ' + str(len(by_country)) + ' countires')\n",
    "print(\"They are:\\n\" + str([c for c in by_country.keys()]))"
   ]
  },
  {
   "cell_type": "code",
   "execution_count": 19,
   "metadata": {},
   "outputs": [
    {
     "data": {
      "text/plain": [
       "{'country': 'US',\n",
       " 'description': \"There is an odd, piercing edge to the aromas, a mix of acetic acid and pungent herb, with a hint of diesel. Somehow it's not off-putting, just atypical. The light, tart fruit is a mix of rhubarb and cranberry, very earthy and tasting of dirt and bark in the finish. This could be quite pleasant with a hearty, rustic dish such as beef Bourgogne.\",\n",
       " 'designation': 'Reserve',\n",
       " 'points': '85',\n",
       " 'price': 28,\n",
       " 'province': 'Oregon',\n",
       " 'region_1': 'Willamette Valley',\n",
       " 'region_2': 'Willamette Valley',\n",
       " 'taster_name': 'Paul Gregutt',\n",
       " 'taster_twitter_handle': '@paulgwine\\xa0',\n",
       " 'title': 'Silvan Ridge 2006 Reserve Pinot Noir (Willamette Valley)',\n",
       " 'variety': 'Pinot Noir',\n",
       " 'winery': 'Silvan Ridge'}"
      ]
     },
     "execution_count": 19,
     "metadata": {},
     "output_type": "execute_result"
    }
   ],
   "source": [
    "# A sample of one data\n",
    "data[233]"
   ]
  },
  {
   "cell_type": "code",
   "execution_count": null,
   "metadata": {},
   "outputs": [],
   "source": []
  }
 ],
 "metadata": {
  "kernelspec": {
   "display_name": "Python 3",
   "language": "python",
   "name": "python3"
  },
  "language_info": {
   "codemirror_mode": {
    "name": "ipython",
    "version": 3
   },
   "file_extension": ".py",
   "mimetype": "text/x-python",
   "name": "python",
   "nbconvert_exporter": "python",
   "pygments_lexer": "ipython3",
   "version": "3.6.2"
  }
 },
 "nbformat": 4,
 "nbformat_minor": 2
}
